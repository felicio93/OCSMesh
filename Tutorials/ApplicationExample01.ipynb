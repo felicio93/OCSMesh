{
 "cells": [
  {
   "cell_type": "markdown",
   "id": "b4427937-80f5-4427-b532-03ac8792d7eb",
   "metadata": {},
   "source": [
    "End to end floodplain mesh gen:\n",
    "----------------------------------\n",
    "```\n",
    "Please use OCSMesh > version 1.6.4\n",
    "\n",
    "Needs to prepare the following folders:\n",
    "    path/\n",
    "    |-- inputs/\n",
    "    |   |-- hgrid.gr3\n",
    "    |   |-- ocean_mesh.2dm\n",
    "    |   |-- total_river_polys.shp\n",
    "    |   |-- dems/\n",
    "    |       |-- gebco_file.tif  \n",
    "    |-- outputs/\n",
    "```\n",
    "- **path:** your directory\n",
    "\n",
    "- **hgrid.gr3:** STOFS3D mesh, used for defining the floodplain domain.\n",
    "    Please download from: https://ccrm.vims.edu/yinglong/feiye/Public/OCSMesh/\n",
    "\n",
    "- **ocean_mesh.2dm:** Ocean mesh, merged to the river+floodplain mesh at the end.\n",
    "    Please download from: https://ccrm.vims.edu/yinglong/feiye/Public/OCSMesh/\n",
    "\n",
    "- **total_river_polys.shp:** RiverMapper polygons, used to create the river mesh.\n",
    "    Please download from: https://ccrm.vims.edu/yinglong/feiye/Public/OCSMesh/\n",
    "    For details on how to create this file, please refer to: https://github.com/schism-dev/RiverMeshTools\n",
    "\n",
    "- **gebco_file.tif:** should be placed inside dems/, should cover the entire model domain.\n",
    "    Please download it from: https://download.gebco.net/\n",
    "    Using the coordinates: -98.5 -51.0, 3, 53\n",
    "\n",
    "- **outputs/:** where outputs (final mesh) will be saved.\n"
   ]
  },
  {
   "cell_type": "code",
   "execution_count": 3,
   "id": "af0f6469-5dcb-4582-8112-b06c31a51af5",
   "metadata": {},
   "outputs": [],
   "source": [
    "import os\n",
    "import time\n",
    "from copy import deepcopy\n",
    "\n",
    "import numpy as np\n",
    "import pandas as pd\n",
    "import geopandas as gpd\n",
    "\n",
    "from shapely.geometry import (\n",
    "                              Polygon, MultiPolygon, mapping\n",
    "                             )\n",
    "from shapely import intersection,difference\n",
    "\n",
    "import ocsmesh"
   ]
  },
  {
   "cell_type": "code",
   "execution_count": 6,
   "id": "8a42e3ec-7b96-4ae0-a2c1-9c9eb0f27c61",
   "metadata": {},
   "outputs": [],
   "source": [
    "path = r\"/Your/Path/Here/\""
   ]
  },
  {
   "cell_type": "markdown",
   "id": "0b8ddd57-99d2-4a13-b86b-104aa4d2fdfd",
   "metadata": {},
   "source": [
    "## Floodplain Domain: "
   ]
  },
  {
   "cell_type": "markdown",
   "id": "00ea7bd7-0cf1-41a2-a1e8-3d9e14b34057",
   "metadata": {},
   "source": [
    "This step is only needed if you do not have a shapefile of the floodplain domain and wants it to match that of STOFS"
   ]
  },
  {
   "cell_type": "code",
   "execution_count": null,
   "id": "d72b1216-e8d3-4edb-9c8d-a0c30db84cca",
   "metadata": {},
   "outputs": [],
   "source": [
    "print(\"Begin Deliniating the Floodplain Domain\")\n",
    "start_time = time.time()\n",
    "\n",
    "STOFS_mesh = ocsmesh.Mesh.open(path+\"inputs/hgrid.gr3\", crs=4326)\n",
    "oc_mesh = ocsmesh.Mesh.open(path+\"inputs/ocean_mesh.2dm\", crs=4326)\n",
    "\n",
    "poly_STOFS = ocsmesh.utils.get_mesh_polygons(STOFS_mesh.msh_t)\n",
    "poly_oc = ocsmesh.utils.get_mesh_polygons(oc_mesh.msh_t)\n",
    "\n",
    "fp_c = poly_STOFS.difference(poly_oc) #clipped floodplain\n",
    "gdf = gpd.GeoDataFrame(geometry = gpd.GeoSeries(fp_c),crs=4326).dissolve().explode()\n",
    "gdf.geometry = ocsmesh.utils.remove_holes(gdf.union_all()) #closing all holes in the polygons\n",
    "gdf= gdf[gdf.geometry.area >= 1e-3] #removing slivers based on area\n",
    "\n",
    "gdf['geometry'] = gdf.geometry.buffer(0.01)\n",
    "gdf = gdf.dissolve().explode()\n",
    "gdf.geometry = ocsmesh.utils.remove_holes(gdf.union_all())\n",
    "gdf.to_file(path+\"outputs/fp_domain.shp\")\n",
    "\n",
    "end_time = time.time()\n",
    "elapsed_time = end_time - start_time\n",
    "print(f\"Time taken for Floodplain deliniation: {elapsed_time} seconds\")"
   ]
  },
  {
   "cell_type": "markdown",
   "id": "f4811699-5a80-4f97-93e6-65cdf3819869",
   "metadata": {},
   "source": [
    "## River Mesh:"
   ]
  },
  {
   "cell_type": "markdown",
   "id": "f6fbd3c1-e016-42eb-80a1-b7052578907a",
   "metadata": {},
   "source": [
    "Triangulates the RiverMapper polygons and clips it for the area of interest (floodplain domain)"
   ]
  },
  {
   "cell_type": "code",
   "execution_count": null,
   "id": "368803e0-6af9-46e6-b245-140f026f5c14",
   "metadata": {},
   "outputs": [],
   "source": [
    "print(\"Begin River Mesh Gen\")\n",
    "start_time = time.time()\n",
    "\n",
    "rm_poly = gpd.read_file(path+\"inputs/total_river_polys.shp\")\n",
    "river_tr = ocsmesh.utils.triangulate_rivermapper_poly(rm_poly)\n",
    "river_tr = ocsmesh.utils.clip_mesh_by_shape(river_tr, gdf.union_all(), adjacent_layers=10)\n",
    "ocsmesh.Mesh(river_tr).write(path+\"outputs/river_tr.2dm\", format='2dm', overwrite=True)\n",
    "del rm_poly, river_tr\n",
    "\n",
    "end_time = time.time()\n",
    "elapsed_time = end_time - start_time\n",
    "print(f\"Time taken for RiverMesh: {elapsed_time} seconds\")"
   ]
  },
  {
   "cell_type": "markdown",
   "id": "1d9068b9-2996-42c2-84ff-acf6cda4c264",
   "metadata": {},
   "source": [
    "## Floodplain Mesh:"
   ]
  },
  {
   "cell_type": "markdown",
   "id": "37847ca9-56f3-4755-8089-8d7052bc073a",
   "metadata": {},
   "source": [
    "Floodplain mesh, hfun. allows customization. Please see the OCSMesh manual: https://repository.library.noaa.gov/view/noaa/33879"
   ]
  },
  {
   "cell_type": "code",
   "execution_count": null,
   "id": "a74d8fc0-1df9-4924-82a8-a4f4faf4844f",
   "metadata": {},
   "outputs": [],
   "source": [
    "print(\"Begin Floodplain Mesh Gen\")\n",
    "start_time = time.time()\n",
    "\n",
    "dem_paths = [f\"{path}inputs/dems/{dem}\" for dem in os.listdir(path+\"inputs/dems/\")]\n",
    "geom_rast_list = [ocsmesh.Raster(f) for f in dem_paths if f[-4:] == '.tif']\n",
    "hfun_rast_list = [ocsmesh.Raster(f) for f in dem_paths if f[-4:] == '.tif']\n",
    "\n",
    "#Mesh gen:\n",
    "geom = ocsmesh.Geom(\n",
    "    geom_rast_list,\n",
    "    base_shape=gdf.union_all(),\n",
    "    base_shape_crs=gdf.crs,\n",
    "    # zmax=10\n",
    "    )\n",
    "hfun = ocsmesh.Hfun(\n",
    "    hfun_rast_list,\n",
    "    base_shape=gdf.union_all(),\n",
    "    base_shape_crs=geom.crs,\n",
    "    hmin=500, hmax=10000,\n",
    "    method='fast')\n",
    "\n",
    "hfun.add_constant_value(1200, lower_bound=-999990, upper_bound=-5)\n",
    "hfun.add_constant_value(600, lower_bound=-5, upper_bound=99999)\n",
    "\n",
    "driver = ocsmesh.JigsawDriver(geom, hfun, crs=4326)\n",
    "fp_mesh = driver.run()\n",
    "\n",
    "hfun_mesh = ocsmesh.mesh.EuclideanMesh2D(hfun.msh_t())\n",
    "ocsmesh.utils.reproject(mesh=hfun_mesh.msh_t,dst_crs=4326)\n",
    "fp_mesh = ocsmesh.utils.fix_small_el(fp_mesh, hfun_mesh, u_limit = 1e-7)\n",
    "ocsmesh.utils.cleanup_isolates(fp_mesh)\n",
    "ocsmesh.utils.cleanup_duplicates(fp_mesh)\n",
    "ocsmesh.utils.put_id_tags(fp_mesh)\n",
    "\n",
    "ocsmesh.Mesh(fp_mesh).write(path+\"outputs/fp_mesh.2dm\", format=\"2dm\", overwrite=True)\n",
    "del geom, hfun, geom_rast_list, hfun_rast_list, driver\n",
    "\n",
    "end_time = time.time()\n",
    "elapsed_time = end_time - start_time\n",
    "print(f\"Time taken for FloodplainMesh: {elapsed_time} seconds\")"
   ]
  },
  {
   "cell_type": "markdown",
   "id": "427ad211-9804-4cd9-b52a-88bf9a6d5aa5",
   "metadata": {},
   "source": [
    "## Merging Meshes:"
   ]
  },
  {
   "cell_type": "markdown",
   "id": "59f59a3c-1869-4e8f-9563-3e90899eac0d",
   "metadata": {},
   "source": [
    "This is a two step procedure.\n",
    "First the river mesh is merged into the floodplain mesh, preserving the river mesh and carving out the floodplain mesh.\n",
    "Then, the floodplain+river mesh is merged with the ocean mesh, preserving the ocean mesh and carving out the floodplain+river mesh."
   ]
  },
  {
   "cell_type": "code",
   "execution_count": null,
   "id": "fcaf947c-3591-4370-974b-66dd65c54ead",
   "metadata": {},
   "outputs": [],
   "source": [
    "print(\"Begin River+Floodplain Mesh Merge\")\n",
    "start_time = time.time()\n",
    "\n",
    "###Merge River into the Floodplain\n",
    "fp_mesh = ocsmesh.Mesh.open(path+\"outputs/fp_mesh.2dm\", crs=4326)\n",
    "river_mesh = ocsmesh.Mesh.open(path+\"outputs/river_tr.2dm\", crs=4326)\n",
    "\n",
    "fp_r = ocsmesh.utils.merge_overlapping_meshes([fp_mesh.msh_t,river_mesh.msh_t])\n",
    "fp_r = ocsmesh.utils.remesh_holes(fp_r, area_threshold_min = 0 , area_threshold_max = 0.002) #remove undesirable islands and slivers\n",
    "ocsmesh.Mesh(fp_r).write(path+\"outputs/fp_r.2dm\", format='2dm', overwrite=True)\n",
    "\n",
    "del fp_mesh, river_mesh\n",
    "end_time = time.time()\n",
    "elapsed_time = end_time - start_time\n",
    "print(f\"Time taken for River+Floodplain Mesh Merge: {elapsed_time} seconds\")\n",
    "\n",
    "\n",
    "print(\"Begin RiverFloodplain+Ocean Mesh Merge\")\n",
    "start_time = time.time()\n",
    "###Merge Floodplain+River with the Ocean\n",
    "fp_r_o = ocsmesh.utils.merge_overlapping_meshes([fp_r, oc_mesh.msh_t])\n",
    "fp_r_o = ocsmesh.utils.remesh_holes(fp_r_o, area_threshold_min = 0 , area_threshold_max = 1e-10) #remove possible slivers\n",
    "ocsmesh.Mesh(fp_r_o).write(path+\"outputs/fp_r_o.2dm\", format='2dm', overwrite=True)\n",
    "ocsmesh.Mesh(fp_r_o).write(path+\"outputs/hgrid.ll\", format='grd', overwrite=True)\n",
    "\n",
    "end_time = time.time()\n",
    "elapsed_time = end_time - start_time\n",
    "print(f\"Time taken for RiverFloodplain+Ocean Mesh Merge: {elapsed_time} seconds\")"
   ]
  },
  {
   "cell_type": "code",
   "execution_count": null,
   "id": "4140d02f-8441-4aef-b618-23c6e844c679",
   "metadata": {},
   "outputs": [],
   "source": []
  },
  {
   "cell_type": "code",
   "execution_count": null,
   "id": "bd4a4ea5-282c-49cd-a658-11957f7216c9",
   "metadata": {},
   "outputs": [],
   "source": []
  }
 ],
 "metadata": {
  "kernelspec": {
   "display_name": "stofs_vis",
   "language": "python",
   "name": "stofs_vis"
  },
  "language_info": {
   "codemirror_mode": {
    "name": "ipython",
    "version": 3
   },
   "file_extension": ".py",
   "mimetype": "text/x-python",
   "name": "python",
   "nbconvert_exporter": "python",
   "pygments_lexer": "ipython3",
   "version": "3.12.6"
  }
 },
 "nbformat": 4,
 "nbformat_minor": 5
}
