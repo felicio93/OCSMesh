{
 "cells": [
  {
   "cell_type": "markdown",
   "id": "20e69aec-05d2-4e33-9862-031c3ef7c371",
   "metadata": {},
   "source": [
    "End to end floodplain mesh gen:\n",
    "----------------------------------\n",
    "```\n",
    "Please use OCSMesh > version 1.6.4\n",
    "\n",
    "Needs to prepare the following folders:\n",
    "    path/\n",
    "    |-- inputs/\n",
    "    |   |-- hgrid.gr3\n",
    "    |   |-- highres_river_polys.shp\n",
    "    |   |-- land_pearl_final.shp\n",
    "    |   |-- dems/\n",
    "    |       |-- *.tif  \n",
    "    |-- outputs/\n",
    "```\n",
    "- **path:** your directory\n",
    "\n",
    "- **hgrid.gr3:** STOFS3D mesh, used for defining the floodplain domain.\n",
    "    Please download from: https://ccrm.vims.edu/yinglong/feiye/Public/OCSMesh/\n",
    "\n",
    "- **highres_river_polys.shp:** Highly detailed RiverMapper polygons, used to create the river mesh.\n",
    "    Please download from: https://ccrm.vims.edu/yinglong/feiye/Public/OCSMesh/\n",
    "    For details on how to create this file, please refer to: https://github.com/schism-dev/RiverMeshTools\n",
    "\n",
    "- **.tif files:** should be placed inside dems/, this is a list of all DEM you gathered from the different data sources.\n",
    "    The other of the DEM's matter. Refer to the OCSMesh Technical Report for details\n",
    "\n",
    "- **outputs/:** where outputs (final mesh) will be saved.\n"
   ]
  },
  {
   "cell_type": "code",
   "execution_count": null,
   "id": "38d277a6-e265-488f-aa1c-7cc5b17a3e21",
   "metadata": {},
   "outputs": [],
   "source": [
    "import os\n",
    "import time\n",
    "from copy import deepcopy\n",
    "\n",
    "import numpy as np\n",
    "import pandas as pd\n",
    "import geopandas as gpd\n",
    "\n",
    "from shapely.geometry import (\n",
    "                              Polygon, MultiPolygon, mapping\n",
    "                             )\n",
    "from shapely import intersection,difference\n",
    "\n",
    "import ocsmesh"
   ]
  },
  {
   "cell_type": "code",
   "execution_count": null,
   "id": "d762e1f7-6b2c-4e3e-800b-13a4156f850b",
   "metadata": {},
   "outputs": [],
   "source": [
    "path = r\"/Your/Path/Here/\""
   ]
  },
  {
   "cell_type": "markdown",
   "id": "f5189848-c9e2-424c-9eea-7e08d40b82f1",
   "metadata": {},
   "source": [
    "## Floodplain Mesh:"
   ]
  },
  {
   "cell_type": "markdown",
   "id": "3227d255-70fa-49a9-a3fc-200d674c125c",
   "metadata": {},
   "source": [
    "Floodplain mesh, hfun. allows customization. Please see the OCSMesh manual: https://repository.library.noaa.gov/view/noaa/33879"
   ]
  },
  {
   "cell_type": "code",
   "execution_count": null,
   "id": "2ed0a3d9-5c72-4b3f-bd91-2b0c91766584",
   "metadata": {},
   "outputs": [],
   "source": [
    "print(\"Begin Floodplain Mesh Gen\")\n",
    "start_time = time.time()\n",
    "\n",
    "dem_paths = [f\"{path}inputs/dems/{dem}\" for dem in os.listdir(path+\"inputs/dems/\")]\n",
    "geom_rast_list = [ocsmesh.Raster(f) for f in dem_paths if f[-4:] == '.tif']\n",
    "hfun_rast_list = [ocsmesh.Raster(f) for f in dem_paths if f[-4:] == '.tif']\n",
    "\n",
    "domain = gpd.read_file(path+\"/land_pearl_final.shp\")\n",
    "\n",
    "#Mesh gen:\n",
    "geom = ocsmesh.Geom(\n",
    "    geom_rast_list,\n",
    "    base_shape=domain.union_all(),\n",
    "    base_shape_crs=domain.crs,\n",
    "    # zmax=10\n",
    "    )\n",
    "hfun = ocsmesh.Hfun(\n",
    "    hfun_rast_list,\n",
    "    base_shape=domain.union_all(),\n",
    "    base_shape_crs=geom.crs,\n",
    "    hmin=50, hmax=500,\n",
    "    method='fast')\n",
    "\n",
    "hfun.add_constant_value(50, lower_bound=-20, upper_bound=1)\n",
    "hfun.add_constant_value(100, lower_bound=1, upper_bound=5)\n",
    "hfun.add_constant_value(200, lower_bound=5, upper_bound=10)\n",
    "\n",
    "driver = ocsmesh.JigsawDriver(geom, hfun, crs=4326)\n",
    "fp_mesh = driver.run()\n",
    "\n",
    "hfun_mesh = ocsmesh.mesh.EuclideanMesh2D(hfun.msh_t())\n",
    "ocsmesh.utils.reproject(mesh=hfun_mesh.msh_t,dst_crs=4326)\n",
    "fp_mesh = ocsmesh.utils.fix_small_el(fp_mesh, hfun_mesh, u_limit= 1e-11, buffer_size= 0.001)\n",
    "ocsmesh.utils.cleanup_isolates(fp_mesh)\n",
    "ocsmesh.utils.cleanup_duplicates(fp_mesh)\n",
    "ocsmesh.utils.put_id_tags(fp_mesh)\n",
    "\n",
    "ocsmesh.Mesh(fp_mesh).write(path+\"outputs/fp_mesh.2dm\", format=\"2dm\", overwrite=True)\n",
    "del geom, hfun, geom_rast_list, hfun_rast_list, driver\n",
    "\n",
    "end_time = time.time()\n",
    "elapsed_time = end_time - start_time\n",
    "print(f\"Time taken for FloodplainMesh: {elapsed_time} seconds\")"
   ]
  },
  {
   "cell_type": "markdown",
   "id": "6036bddc-4b96-419a-9ab8-eb1e72045e13",
   "metadata": {},
   "source": [
    "## River Mesh:"
   ]
  },
  {
   "cell_type": "markdown",
   "id": "83b07c89-78e1-465b-8773-05d9ce920ac9",
   "metadata": {},
   "source": [
    "Triangulates the RiverMapper polygons and clips it for the area of interest (floodplain domain)"
   ]
  },
  {
   "cell_type": "code",
   "execution_count": null,
   "id": "f3725d0f-8d8f-4fce-8800-0c45e4a8e4a2",
   "metadata": {},
   "outputs": [],
   "source": [
    "print(\"Begin River Mesh Gen\")\n",
    "start_time = time.time()\n",
    "\n",
    "rm_poly = gpd.read_file(path+\"inputs/highres_river_polys.shp\")\n",
    "river_tr = ocsmesh.utils.triangulate_rivermapper_poly(rm_poly)\n",
    "river_tr = ocsmesh.utils.clip_mesh_by_shape(river_tr, domain.union_all(),adjacent_layers=12)\n",
    "ocsmesh.Mesh(river_tr).write(path+\"outputs/river_tr.2dm\", format='2dm', overwrite=True)\n",
    "del rm_poly, river_tr\n",
    "\n",
    "end_time = time.time()\n",
    "elapsed_time = end_time - start_time\n",
    "print(f\"Time taken for RiverMesh: {elapsed_time} seconds\")"
   ]
  },
  {
   "cell_type": "markdown",
   "id": "163605a2-48a5-4578-ad39-b05f7ea77a32",
   "metadata": {},
   "source": [
    "## Floodplain+River Mesh for Pearl River Basin:"
   ]
  },
  {
   "cell_type": "markdown",
   "id": "82039549-d3b3-4222-b794-82ead86e3061",
   "metadata": {},
   "source": [
    "Creating the high resolution mesh"
   ]
  },
  {
   "cell_type": "code",
   "execution_count": null,
   "id": "4f3ec549-c2bc-477a-8fcc-d45ea27569ae",
   "metadata": {},
   "outputs": [],
   "source": [
    "print(\"Begin River Merge into the Floodplain\")\n",
    "start_time = time.time()\n",
    "\n",
    "fp_mesh = ocsmesh.Mesh.open(path+\"outputs/fp_mesh.2dm\", crs=4326)\n",
    "river_tr = ocsmesh.Mesh.open(path+\"outputs/river_tr.2dm\", crs=4326)\n",
    "\n",
    "fp_r = ocsmesh.utils.merge_overlapping_meshes([fp_mesh.msh_t,river_tr.msh_t],adjacent_layers=2,buffer_size = 0.0005)\n",
    "\n",
    "del fp_mesh, river_tr\n",
    "\n",
    "end_time = time.time()\n",
    "elapsed_time = end_time - start_time\n",
    "print(f\"Time taken for Floodplain+River Mesh: {elapsed_time} seconds\")"
   ]
  },
  {
   "cell_type": "markdown",
   "id": "bd205575-c088-42d4-bad3-f7c3361ae9da",
   "metadata": {},
   "source": [
    "## High Resolution Mesh Merge into STOFS Mesh:"
   ]
  },
  {
   "cell_type": "markdown",
   "id": "c31ea353-1020-4dd3-96a4-8f7a94ac7c4d",
   "metadata": {},
   "source": [
    "Relocating the High Resolution Mesh"
   ]
  },
  {
   "cell_type": "code",
   "execution_count": null,
   "id": "17167219-1617-488b-a331-7c0cfbebb136",
   "metadata": {},
   "outputs": [],
   "source": [
    "print(\"Begin Merging the High Resolution Mesh into the STOFS Mesh\")\n",
    "start_time = time.time()\n",
    "\n",
    "STOFS_mesh = ocsmesh.Mesh.open(path+\"inputs/hgrid.gr3\", crs=4326)\n",
    "fp_r_stofs = ocsmesh.utils.merge_overlapping_meshes([STOFS_mesh.msh_t, fp_r],adjacent_layers=2,buffer_size = 0.0005)\n",
    "\n",
    "ocsmesh.Mesh(fp_r_stofs).write(path+\"outputs/fp_r_stofs.2dm\", format='2dm', overwrite=True)\n",
    "ocsmesh.Mesh(fp_r_stofs).write(path+\"outputs/fp_r_stofs.gr3\", format='grd', overwrite=True)\n",
    "\n",
    "end_time = time.time()\n",
    "elapsed_time = end_time - start_time\n",
    "print(f\"Time taken for HighResolution+STOFS Mesh Merge: {elapsed_time} seconds\")"
   ]
  },
  {
   "cell_type": "code",
   "execution_count": null,
   "id": "89d47d1b-ade2-440c-9266-d844987e9c9c",
   "metadata": {},
   "outputs": [],
   "source": []
  }
 ],
 "metadata": {
  "kernelspec": {
   "display_name": "agu24",
   "language": "python",
   "name": "agu24"
  },
  "language_info": {
   "codemirror_mode": {
    "name": "ipython",
    "version": 3
   },
   "file_extension": ".py",
   "mimetype": "text/x-python",
   "name": "python",
   "nbconvert_exporter": "python",
   "pygments_lexer": "ipython3",
   "version": "3.12.7"
  }
 },
 "nbformat": 4,
 "nbformat_minor": 5
}
